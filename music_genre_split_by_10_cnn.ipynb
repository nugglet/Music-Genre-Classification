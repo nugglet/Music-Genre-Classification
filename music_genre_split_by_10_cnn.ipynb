{
 "cells": [
  {
   "cell_type": "markdown",
   "metadata": {},
   "source": [
    "# CNN 2D layers for three-second splits\n",
    "\n",
    "~80% validation accuracy"
   ]
  },
  {
   "cell_type": "code",
   "execution_count": 1,
   "metadata": {},
   "outputs": [],
   "source": [
    "import torch\n",
    "import torch.nn as nn\n",
    "import torch.nn.functional as F\n",
    "import torch.optim as optim\n",
    "\n",
    "torch.manual_seed(1)\n",
    "\n",
    "import pandas as pd\n",
    "import numpy as np"
   ]
  },
  {
   "cell_type": "code",
   "execution_count": 2,
   "metadata": {},
   "outputs": [],
   "source": [
    "import pickle\n",
    "\n",
    "infile = open(\"Preprocessed/mfcc_list_time-series_639450_10_60\",'rb')\n",
    "mfcc_list = pickle.load(infile)\n",
    "infile.close()"
   ]
  },
  {
   "cell_type": "code",
   "execution_count": 3,
   "metadata": {},
   "outputs": [],
   "source": [
    "df = pd.read_csv(\"Data/features_30_sec.csv\")"
   ]
  },
  {
   "cell_type": "code",
   "execution_count": 4,
   "metadata": {},
   "outputs": [],
   "source": [
    "df['labels'] = range(0, 1000)"
   ]
  },
  {
   "cell_type": "code",
   "execution_count": 5,
   "metadata": {},
   "outputs": [],
   "source": [
    "mfcc_list = mfcc_list.merge(df, on=\"labels\", how=\"left\")"
   ]
  },
  {
   "cell_type": "code",
   "execution_count": 6,
   "metadata": {},
   "outputs": [],
   "source": [
    "from sklearn.model_selection import train_test_split\n",
    "\n",
    "X_train, X_test, y_train, y_test = train_test_split(\n",
    "    mfcc_list.mfcc, mfcc_list.label, test_size=0.2, random_state=42\n",
    ")\n",
    "\n",
    "y_test_keep = y_test"
   ]
  },
  {
   "cell_type": "code",
   "execution_count": 30,
   "metadata": {},
   "outputs": [],
   "source": [
    "X_all = mfcc_list.mfcc\n",
    "y_all = mfcc_list.label"
   ]
  },
  {
   "cell_type": "code",
   "execution_count": 7,
   "metadata": {},
   "outputs": [],
   "source": [
    "from sklearn.preprocessing import LabelBinarizer\n",
    "\n",
    "le = LabelBinarizer()\n",
    "y_train = le.fit_transform(y_train.values)\n",
    "y_test = le.transform(y_test.values)"
   ]
  },
  {
   "cell_type": "code",
   "execution_count": 31,
   "metadata": {},
   "outputs": [],
   "source": [
    "le_all = LabelBinarizer()\n",
    "y_all_labelled = le_all.fit_transform(y_all.values)"
   ]
  },
  {
   "cell_type": "code",
   "execution_count": 8,
   "metadata": {},
   "outputs": [],
   "source": [
    "class Linear(nn.Module):\n",
    "    def __init__(self):\n",
    "        super(Linear, self).__init__()\n",
    "        self.hidden_size = 1290\n",
    "        drp = 0.1\n",
    "        n_classes = 10\n",
    "        self.fc1 = nn.Linear(125*60, 512)\n",
    "        self.fc2 = nn.Linear(512, 256)\n",
    "        self.fc3 = nn.Linear(256, 256)\n",
    "        self.fc4 = nn.Linear(256, 128)\n",
    "        self.fc5 = nn.Linear(128, 64)\n",
    "        self.relu = nn.ReLU()\n",
    "        self.dropout = nn.Dropout(drp)\n",
    "        self.out = nn.Linear(64, n_classes)\n",
    "        # self.softmax = nn.Softmax(n_classes)\n",
    "\n",
    "    def forward(self, x):\n",
    "        x = torch.flatten(x, start_dim=1)\n",
    "        fc1 = self.dropout(self.relu(self.fc1(x)))\n",
    "        fc2 = self.dropout(self.relu(self.fc2(fc1)))\n",
    "        fc3 = self.dropout(self.relu(self.fc3(fc2)))\n",
    "        fc4 = self.dropout(self.relu(self.fc4(fc3)))\n",
    "        fc5 = self.dropout(self.relu(self.fc5(fc4)))\n",
    "        out = self.out(fc5)\n",
    "        return out"
   ]
  },
  {
   "cell_type": "code",
   "execution_count": 24,
   "metadata": {},
   "outputs": [],
   "source": [
    "class CNN(nn.Module):\n",
    "    def __init__(self):\n",
    "        super(CNN, self).__init__()\n",
    "        drp = 0.1\n",
    "        n_classes = len(le.classes_)\n",
    "        \n",
    "        self.relu = nn.ReLU()\n",
    "        self.dropout = nn.Dropout(drp)\n",
    "        \n",
    "        self.cnn_layer1 = nn.Sequential(\n",
    "            # Layer 1\n",
    "            nn.Conv2d(1, 32, kernel_size=3, stride=1, padding=1),\n",
    "            nn.BatchNorm2d(32),\n",
    "            nn.ReLU(inplace=True),\n",
    "            nn.MaxPool2d(kernel_size=3, stride=1, padding=1),\n",
    "            nn.Dropout(drp),\n",
    "            # Layer 2\n",
    "            nn.Conv2d(32, 32, kernel_size=3, stride=1, padding=1),\n",
    "            nn.BatchNorm2d(32),\n",
    "            nn.ReLU(inplace=True),\n",
    "            nn.MaxPool2d(kernel_size=3, stride=1, padding=1),\n",
    "            nn.Dropout(drp),\n",
    "            # Layer 3\n",
    "            nn.Conv2d(32, 32, kernel_size=(3, 4), stride=2, padding=0),\n",
    "            # Out: 62, 29\n",
    "            nn.BatchNorm2d(32),\n",
    "            nn.ReLU(inplace=True),\n",
    "            nn.MaxPool2d(kernel_size=(4, 3), stride=2, padding=0),\n",
    "            # Out: 30, 14\n",
    "            nn.Dropout(drp),\n",
    "        )\n",
    "        \n",
    "        self.cnn_layer2 = nn.Sequential(\n",
    "            # Layer 1\n",
    "            nn.Conv2d(1, 32, kernel_size=7, stride=1, padding=3),\n",
    "            nn.BatchNorm2d(32),\n",
    "            nn.ReLU(inplace=True),\n",
    "            nn.MaxPool2d(kernel_size=7, stride=1, padding=3),\n",
    "            nn.Dropout(drp),\n",
    "            # Layer 2\n",
    "            nn.Conv2d(32, 32, kernel_size=5, stride=1, padding=2),\n",
    "            nn.BatchNorm2d(32),\n",
    "            nn.ReLU(inplace=True),\n",
    "            nn.MaxPool2d(kernel_size=5, stride=1, padding=2),\n",
    "            nn.Dropout(drp),\n",
    "            # Layer 3\n",
    "            nn.Conv2d(32, 32, kernel_size=(3, 4), stride=2, padding=0),\n",
    "            # Out: 62, 29\n",
    "            nn.BatchNorm2d(32),\n",
    "            nn.ReLU(inplace=True),\n",
    "            nn.MaxPool2d(kernel_size=(4, 3), stride=2, padding=0),\n",
    "            # Out: 30, 14\n",
    "            nn.Dropout(drp),\n",
    "        )\n",
    "        \n",
    "        # self.cnn_layer2 = nn.Sequential(\n",
    "        #     # Layer 1\n",
    "        #     nn.Conv1d(40, 40, kernel_size=5, stride=1, padding=2),\n",
    "        #     nn.BatchNorm1d(40),\n",
    "        #     nn.ReLU(inplace=True),\n",
    "        #     nn.MaxPool1d(kernel_size=3, stride=1, padding=1),\n",
    "        #     nn.Dropout(drp),\n",
    "        # )\n",
    "        \n",
    "        # self.cnn_layer2 = nn.Sequential(\n",
    "        #     # Layer 2\n",
    "        #     nn.Conv1d(40, 40, kernel_size=249, stride=1, padding=124),\n",
    "        #     nn.BatchNorm1d(40),\n",
    "        #     nn.ReLU(inplace=True),\n",
    "        #     nn.MaxPool1d(kernel_size=3, stride=1, padding=1),\n",
    "        #     nn.Dropout(drp),\n",
    "        # )\n",
    "        # self.cnn_layer3 = nn.Sequential(\n",
    "        #     # Layer 3\n",
    "        #     nn.Conv1d(40, 40, kernel_size=125, stride=1, padding=62),\n",
    "        #     nn.BatchNorm1d(40),\n",
    "        #     nn.ReLU(inplace=True),\n",
    "        #     nn.MaxPool1d(kernel_size=3, stride=1, padding=1),\n",
    "        #     nn.Dropout(drp),\n",
    "        # )\n",
    "        # self.cnn_layer4 = nn.Sequential(\n",
    "        #     # Layer 4\n",
    "        #     nn.Conv1d(40, 40, kernel_size=59, stride=1, padding=29),\n",
    "        #     nn.BatchNorm1d(40),\n",
    "        #     nn.ReLU(inplace=True),\n",
    "        #     nn.MaxPool1d(kernel_size=3, stride=1, padding=1),\n",
    "        #     nn.Dropout(drp)\n",
    "        # )\n",
    "        \n",
    "        self.fc1 = nn.Linear(30 * 14 * 32 * 2, 512)\n",
    "        self.fc2 = nn.Linear(512, 256)\n",
    "        self.fc3 = nn.Linear(256, 256)\n",
    "        self.fc4 = nn.Linear(256, 128)\n",
    "        self.fc5 = nn.Linear(128, 64)\n",
    "        self.relu = nn.ReLU()\n",
    "        self.dropout = nn.Dropout(drp)\n",
    "        self.out = nn.Linear(64, n_classes)\n",
    "        self.directout = nn.Linear(512, n_classes)\n",
    "\n",
    "    def forward(self, x):\n",
    "        # x = x.view(x.shape[0], 40, 125)\n",
    "        x = torch.unsqueeze(x, dim = 1)\n",
    "        out1 = self.cnn_layer1(x)\n",
    "        # out1 = self.cnn_layer1(out1)\n",
    "        out2 = self.cnn_layer2(x)\n",
    "        # out3 = self.cnn_layer3(x)\n",
    "        # out4 = self.cnn_layer4(x)\n",
    "        full_out = torch.cat([out1, out2], dim=1)\n",
    "        full_out = full_out.view(full_out.size(0), -1)\n",
    "        x = torch.flatten(full_out, start_dim=1)\n",
    "        x = self.dropout(self.relu(self.fc1(x)))\n",
    "        x = self.dropout(self.relu(self.fc2(x)))\n",
    "        x = self.dropout(self.relu(self.fc3(x)))\n",
    "        x = self.dropout(self.relu(self.fc4(x)))\n",
    "        x = self.dropout(self.relu(self.fc5(x)))\n",
    "        out = self.out(x)\n",
    "        return out"
   ]
  },
  {
   "cell_type": "code",
   "execution_count": 10,
   "metadata": {},
   "outputs": [],
   "source": [
    "def multi_acc(y_pred, y_test):\n",
    "    y_pred_softmax = F.softmax(y_pred, dim = 1)\n",
    "    _, y_pred_tags = torch.max(y_pred_softmax, dim = 1)\n",
    "    _, y_test_tags = torch.max(y_test, dim = 1) \n",
    "    \n",
    "    correct_pred = (y_pred_tags == y_test_tags).float()\n",
    "    acc = correct_pred.sum() / len(correct_pred)\n",
    "    \n",
    "    acc = torch.round(acc * 100)\n",
    "    \n",
    "    return y_pred_softmax, acc"
   ]
  },
  {
   "cell_type": "code",
   "execution_count": 25,
   "metadata": {},
   "outputs": [
    {
     "name": "stdout",
     "output_type": "stream",
     "text": [
      "Epoch 1/35 \t loss=56.9066 \t acc=32.14% \t val_loss=42.3303 \t val_acc=49.24% \t time=13.09s\n",
      "Epoch 2/35 \t loss=42.0273 \t acc=51.08% \t val_loss=37.3458 \t val_acc=55.13% \t time=13.08s\n",
      "Epoch 3/35 \t loss=36.3407 \t acc=59.10% \t val_loss=34.9251 \t val_acc=59.78% \t time=13.11s\n",
      "Epoch 4/35 \t loss=32.1488 \t acc=65.76% \t val_loss=28.6734 \t val_acc=69.00% \t time=13.12s\n",
      "Epoch 5/35 \t loss=28.6130 \t acc=69.22% \t val_loss=26.6675 \t val_acc=70.71% \t time=13.12s\n",
      "Epoch 6/35 \t loss=26.5217 \t acc=71.99% \t val_loss=26.3399 \t val_acc=72.11% \t time=13.13s\n",
      "Epoch 7/35 \t loss=23.7951 \t acc=74.47% \t val_loss=26.5113 \t val_acc=72.24% \t time=13.15s\n",
      "Epoch 8/35 \t loss=22.1860 \t acc=77.00% \t val_loss=23.0919 \t val_acc=75.86% \t time=13.16s\n",
      "Epoch 9/35 \t loss=20.8610 \t acc=78.25% \t val_loss=24.6684 \t val_acc=74.71% \t time=13.17s\n",
      "Epoch 10/35 \t loss=19.2627 \t acc=79.64% \t val_loss=22.2573 \t val_acc=78.46% \t time=13.16s\n",
      "Epoch 11/35 \t loss=17.4747 \t acc=81.28% \t val_loss=21.3100 \t val_acc=78.71% \t time=13.18s\n",
      "Epoch 12/35 \t loss=15.6258 \t acc=83.63% \t val_loss=23.0769 \t val_acc=77.86% \t time=13.19s\n",
      "Epoch 13/35 \t loss=14.5936 \t acc=85.50% \t val_loss=21.4182 \t val_acc=78.11% \t time=13.18s\n",
      "Epoch 14/35 \t loss=13.3259 \t acc=86.30% \t val_loss=20.8413 \t val_acc=79.86% \t time=13.18s\n",
      "Epoch 15/35 \t loss=12.6376 \t acc=86.86% \t val_loss=20.0816 \t val_acc=81.13% \t time=13.19s\n",
      "Epoch 16/35 \t loss=12.8691 \t acc=86.89% \t val_loss=19.3515 \t val_acc=81.56% \t time=13.22s\n",
      "Epoch 17/35 \t loss=11.8072 \t acc=88.36% \t val_loss=22.0145 \t val_acc=78.27% \t time=13.22s\n",
      "Epoch 18/35 \t loss=10.6533 \t acc=89.52% \t val_loss=19.0337 \t val_acc=82.29% \t time=13.22s\n",
      "Epoch 19/35 \t loss=9.7080 \t acc=90.16% \t val_loss=23.0115 \t val_acc=80.49% \t time=13.22s\n",
      "Epoch 20/35 \t loss=9.4716 \t acc=90.76% \t val_loss=22.5931 \t val_acc=80.73% \t time=13.22s\n",
      "Epoch 21/35 \t loss=8.8605 \t acc=91.50% \t val_loss=24.2761 \t val_acc=80.87% \t time=13.21s\n",
      "Epoch 22/35 \t loss=7.7555 \t acc=92.66% \t val_loss=21.6404 \t val_acc=81.84% \t time=13.21s\n",
      "Epoch 23/35 \t loss=7.5561 \t acc=92.72% \t val_loss=23.3842 \t val_acc=81.70% \t time=13.21s\n",
      "Epoch 24/35 \t loss=7.2170 \t acc=93.04% \t val_loss=28.4656 \t val_acc=79.86% \t time=13.22s\n",
      "Epoch 25/35 \t loss=6.9223 \t acc=93.66% \t val_loss=26.2868 \t val_acc=81.14% \t time=13.22s\n",
      "Epoch 26/35 \t loss=6.1925 \t acc=94.48% \t val_loss=30.5483 \t val_acc=79.33% \t time=13.22s\n",
      "Epoch 27/35 \t loss=6.4549 \t acc=93.87% \t val_loss=23.7931 \t val_acc=82.56% \t time=13.22s\n",
      "Epoch 28/35 \t loss=5.6812 \t acc=94.84% \t val_loss=23.4548 \t val_acc=82.71% \t time=13.21s\n",
      "Epoch 29/35 \t loss=5.2891 \t acc=94.96% \t val_loss=27.7896 \t val_acc=80.76% \t time=13.22s\n",
      "Epoch 30/35 \t loss=6.0400 \t acc=94.63% \t val_loss=22.8836 \t val_acc=82.49% \t time=13.22s\n",
      "Epoch 31/35 \t loss=5.7353 \t acc=94.80% \t val_loss=26.3846 \t val_acc=80.95% \t time=13.22s\n",
      "Epoch 32/35 \t loss=5.4834 \t acc=95.16% \t val_loss=24.8267 \t val_acc=82.75% \t time=13.22s\n",
      "Epoch 33/35 \t loss=5.1319 \t acc=95.56% \t val_loss=24.0636 \t val_acc=82.51% \t time=13.22s\n",
      "Epoch 34/35 \t loss=4.7159 \t acc=95.83% \t val_loss=28.0211 \t val_acc=83.41% \t time=13.22s\n",
      "Epoch 35/35 \t loss=4.5736 \t acc=95.94% \t val_loss=27.0559 \t val_acc=82.51% \t time=13.22s\n"
     ]
    }
   ],
   "source": [
    "import time\n",
    "\n",
    "device = torch.device(\"cuda\" if torch.cuda.is_available() else \"cpu\")\n",
    "\n",
    "n_epochs = 35\n",
    "batch_size = 32\n",
    "model = CNN()\n",
    "loss_fn = nn.CrossEntropyLoss(reduction=\"sum\")\n",
    "optimizer = torch.optim.Adam(\n",
    "    filter(lambda p: p.requires_grad, model.parameters()), lr=0.001\n",
    ")\n",
    "\n",
    "model.to(device)\n",
    "\n",
    "# Load train and test in CUDA Memory\n",
    "x_train = torch.tensor(X_train.values.tolist(), dtype=torch.float).to(device)\n",
    "y_train_tensor = torch.tensor(y_train, dtype=torch.float).to(device)\n",
    "x_cv = torch.tensor(X_test.values.tolist(), dtype=torch.float).to(device)\n",
    "y_cv = torch.tensor(y_test, dtype=torch.float).to(device)\n",
    "\n",
    "# Create Torch datasets\n",
    "train = torch.utils.data.TensorDataset(x_train, y_train_tensor)\n",
    "valid = torch.utils.data.TensorDataset(x_cv, y_cv)\n",
    "\n",
    "# Create Data Loaders\n",
    "train_loader = torch.utils.data.DataLoader(train, batch_size=batch_size, shuffle=True)\n",
    "valid_loader = torch.utils.data.DataLoader(valid, batch_size=batch_size, shuffle=False)\n",
    "\n",
    "train_loss = []\n",
    "valid_loss = []\n",
    "\n",
    "for epoch in range(n_epochs):\n",
    "    start_time = time.time()\n",
    "    # Set model to train configuration\n",
    "    model.train()\n",
    "    avg_loss = 0.0\n",
    "    accuracy = []\n",
    "    for i, (x_batch, y_batch) in enumerate(train_loader):\n",
    "        # Predict/Forward Pass\n",
    "        y_pred = model(x_batch)\n",
    "        # # Casting\n",
    "        # x_batch = x_batch.to(device)\n",
    "        # y_batch = y_batch.type(torch.LongTensor)\n",
    "        # y_batch = y_batch.to(device)\n",
    "        # Compute loss\n",
    "        loss = loss_fn(y_pred, y_batch)\n",
    "        _, acc = multi_acc(y_pred, y_batch)\n",
    "        optimizer.zero_grad()\n",
    "        loss.backward()\n",
    "        optimizer.step()\n",
    "        avg_loss += loss.item() / len(train_loader)\n",
    "        accuracy.append(acc.item())\n",
    "\n",
    "    # Set model to validation configuration -Doesn't get trained here\n",
    "    model.eval()\n",
    "    avg_val_loss = 0.0\n",
    "    val_accuracy = []\n",
    "    val_preds = np.zeros((len(x_cv), 10))\n",
    "\n",
    "    for i, (x_batch, y_batch) in enumerate(valid_loader):\n",
    "        # Casting\n",
    "        # x_batch = x_batch.to(device)\n",
    "        # y_batch = y_batch.type(torch.LongTensor)\n",
    "        # y_batch = y_batch.to(device)\n",
    "        # Detach\n",
    "        y_pred = model(x_batch).detach()\n",
    "        val_pred, val_acc = multi_acc(y_pred, y_batch)\n",
    "        val_preds[i * batch_size:(i+1) * batch_size] = val_pred.cpu()\n",
    "        avg_val_loss += loss_fn(y_pred, y_batch).item() / len(valid_loader)\n",
    "        val_accuracy.append(val_acc.item())\n",
    "\n",
    "    # Check Accuracy\n",
    "    # val_accuracy = sum(val_preds.argmax(axis=1) == y_test) / len(y_test)\n",
    "    train_loss.append(avg_loss)\n",
    "    valid_loss.append(avg_val_loss)\n",
    "    elapsed_time = time.time() - start_time\n",
    "    print(\n",
    "        \"Epoch {}/{} \\t loss={:.4f} \\t acc={:.2f}% \\t val_loss={:.4f} \\t val_acc={:.2f}% \\t time={:.2f}s\".format(\n",
    "            epoch + 1, n_epochs, avg_loss, np.mean(accuracy), avg_val_loss, np.mean(val_accuracy), elapsed_time\n",
    "        )\n",
    "    )\n"
   ]
  },
  {
   "cell_type": "code",
   "execution_count": 26,
   "metadata": {},
   "outputs": [],
   "source": [
    "import seaborn as sns\n",
    "import matplotlib.pyplot as plt\n",
    "def plot_graph(epochs):\n",
    "    plt.figure(figsize=(12,12))\n",
    "    sns.set_style(\"ticks\")\n",
    "    plt.style.library['seaborn-colorblind'] # Care for the color-blind :\")\n",
    "    plt.title(\"Train/Validation Loss\")\n",
    "    plt.plot(list(np.arange(epochs) + 1) , train_loss, label='train')\n",
    "    plt.plot(list(np.arange(epochs) + 1), valid_loss, label='validation')\n",
    "    plt.xlabel('num_epochs', fontsize=12)\n",
    "    plt.ylabel('loss', fontsize=12)\n",
    "    plt.legend(loc='best')"
   ]
  },
  {
   "cell_type": "code",
   "execution_count": 27,
   "metadata": {},
   "outputs": [
    {
     "data": {
      "image/png": "[encoded data removed]",
      "text/plain": [
       "<Figure size 864x864 with 1 Axes>"
      ]
     },
     "metadata": {},
     "output_type": "display_data"
    }
   ],
   "source": [
    "plot_graph(n_epochs)"
   ]
  },
  {
   "cell_type": "code",
   "execution_count": 28,
   "metadata": {},
   "outputs": [
    {
     "data": {
      "text/plain": [
       "<AxesSubplot:title={'center':'Confusion Matrix'}, xlabel='Predicted label', ylabel='True label'>"
      ]
     },
     "execution_count": 28,
     "metadata": {},
     "output_type": "execute_result"
    },
    {
     "data": {
      "image/png": "[encoded data removed]",
      "text/plain": [
       "<Figure size 864x864 with 2 Axes>"
      ]
     },
     "metadata": {},
     "output_type": "display_data"
    }
   ],
   "source": [
    "import scikitplot as skplt\n",
    "y_true = [x for x in y_test_keep.tolist()]\n",
    "y_pred = [le.classes_[x] for x in val_preds.argmax(axis=1)]\n",
    "skplt.metrics.plot_confusion_matrix(\n",
    "    y_true, \n",
    "    y_pred,\n",
    "    figsize=(12,12),x_tick_rotation=90)"
   ]
  },
  {
   "cell_type": "code",
   "execution_count": null,
   "metadata": {},
   "outputs": [],
   "source": [
    "data, sr = librosa.load(\"Data/genres_original/blues/blues.00000.wav\")"
   ]
  },
  {
   "cell_type": "code",
   "execution_count": 29,
   "metadata": {},
   "outputs": [
    {
     "name": "stdout",
     "output_type": "stream",
     "text": [
      "              precision    recall  f1-score   support\n",
      "\n",
      "       blues       0.88      0.78      0.83       208\n",
      "   classical       0.95      0.96      0.95       202\n",
      "     country       0.72      0.73      0.73       192\n",
      "       disco       0.72      0.86      0.78       201\n",
      "      hiphop       0.91      0.80      0.85       209\n",
      "        jazz       0.88      0.87      0.88       186\n",
      "       metal       0.90      0.94      0.92       211\n",
      "         pop       0.87      0.86      0.86       204\n",
      "      reggae       0.87      0.74      0.80       212\n",
      "        rock       0.59      0.71      0.65       175\n",
      "\n",
      "    accuracy                           0.83      2000\n",
      "   macro avg       0.83      0.82      0.82      2000\n",
      "weighted avg       0.83      0.83      0.83      2000\n",
      "\n"
     ]
    }
   ],
   "source": [
    "from sklearn.metrics import classification_report\n",
    "\n",
    "print(classification_report(y_true, y_pred))"
   ]
  },
  {
   "cell_type": "markdown",
   "metadata": {},
   "source": [
    "Training on the whole dataset. Training on only around 15 epochs as seen from the graphs above."
   ]
  },
  {
   "cell_type": "code",
   "execution_count": 34,
   "metadata": {},
   "outputs": [
    {
     "name": "stdout",
     "output_type": "stream",
     "text": [
      "Epoch 1/15 \t loss=56.6238 \t acc=32.52% \t time=15.30s\n",
      "Epoch 2/15 \t loss=41.8145 \t acc=52.15% \t time=15.28s\n",
      "Epoch 3/15 \t loss=35.1913 \t acc=61.44% \t time=15.30s\n",
      "Epoch 4/15 \t loss=31.6425 \t acc=66.35% \t time=15.31s\n",
      "Epoch 5/15 \t loss=28.7929 \t acc=69.42% \t time=15.32s\n",
      "Epoch 6/15 \t loss=25.9301 \t acc=72.81% \t time=15.34s\n",
      "Epoch 7/15 \t loss=22.8200 \t acc=75.89% \t time=15.34s\n",
      "Epoch 8/15 \t loss=21.4071 \t acc=78.13% \t time=15.35s\n",
      "Epoch 9/15 \t loss=20.1004 \t acc=79.52% \t time=15.35s\n",
      "Epoch 10/15 \t loss=17.6067 \t acc=81.63% \t time=15.38s\n",
      "Epoch 11/15 \t loss=16.6064 \t acc=83.03% \t time=15.40s\n",
      "Epoch 12/15 \t loss=14.8394 \t acc=84.42% \t time=15.40s\n",
      "Epoch 13/15 \t loss=14.6682 \t acc=85.62% \t time=15.40s\n",
      "Epoch 14/15 \t loss=13.1340 \t acc=86.42% \t time=15.40s\n",
      "Epoch 15/15 \t loss=12.7742 \t acc=87.32% \t time=15.41s\n"
     ]
    }
   ],
   "source": [
    "import time\n",
    "\n",
    "device = torch.device(\"cuda\" if torch.cuda.is_available() else \"cpu\")\n",
    "\n",
    "n_epochs = 15\n",
    "batch_size = 32\n",
    "model = CNN()\n",
    "loss_fn = nn.CrossEntropyLoss(reduction=\"sum\")\n",
    "optimizer = torch.optim.Adam(\n",
    "    filter(lambda p: p.requires_grad, model.parameters()), lr=0.001\n",
    ")\n",
    "\n",
    "model.to(device)\n",
    "\n",
    "# Load train in CUDA Memory\n",
    "x_train = torch.tensor(X_all.values.tolist(), dtype=torch.float).to(device)\n",
    "y_train_tensor = torch.tensor(y_all_labelled, dtype=torch.float).to(device)\n",
    "\n",
    "# Create Torch datasets\n",
    "train = torch.utils.data.TensorDataset(x_train, y_train_tensor)\n",
    "\n",
    "# Create Data Loaders\n",
    "train_loader = torch.utils.data.DataLoader(train, batch_size=batch_size, shuffle=True)\n",
    "\n",
    "train_loss = []\n",
    "\n",
    "for epoch in range(n_epochs):\n",
    "    start_time = time.time()\n",
    "    # Set model to train configuration\n",
    "    model.train()\n",
    "    avg_loss = 0.0\n",
    "    accuracy = []\n",
    "    for i, (x_batch, y_batch) in enumerate(train_loader):\n",
    "        # Predict/Forward Pass\n",
    "        y_pred = model(x_batch)\n",
    "        # # Casting\n",
    "        # x_batch = x_batch.to(device)\n",
    "        # y_batch = y_batch.type(torch.LongTensor)\n",
    "        # y_batch = y_batch.to(device)\n",
    "        # Compute loss\n",
    "        loss = loss_fn(y_pred, y_batch)\n",
    "        _, acc = multi_acc(y_pred, y_batch)\n",
    "        optimizer.zero_grad()\n",
    "        loss.backward()\n",
    "        optimizer.step()\n",
    "        avg_loss += loss.item() / len(train_loader)\n",
    "        accuracy.append(acc.item())\n",
    "\n",
    "    # Check Accuracy\n",
    "    # val_accuracy = sum(val_preds.argmax(axis=1) == y_test) / len(y_test)\n",
    "    train_loss.append(avg_loss)\n",
    "    elapsed_time = time.time() - start_time\n",
    "    print(\n",
    "        \"Epoch {}/{} \\t loss={:.4f} \\t acc={:.2f}% \\t time={:.2f}s\".format(\n",
    "            epoch + 1, n_epochs, avg_loss, np.mean(accuracy), elapsed_time\n",
    "        )\n",
    "    )\n"
   ]
  },
  {
   "cell_type": "code",
   "execution_count": 36,
   "metadata": {},
   "outputs": [],
   "source": [
    "torch.save(model, \"Models/CNN_2D_Split_10.pt\")"
   ]
  }
 ],
 "metadata": {
  "interpreter": {
   "hash": "d048e5a96ab3efc3bbb89cf19027d89d3dea82b582168492092a5bbe35e6db15"
  },
  "kernelspec": {
   "display_name": "Python 3.9.10 ('env_datasci')",
   "language": "python",
   "name": "python3"
  },
  "language_info": {
   "codemirror_mode": {
    "name": "ipython",
    "version": 3
   },
   "file_extension": ".py",
   "mimetype": "text/x-python",
   "name": "python",
   "nbconvert_exporter": "python",
   "pygments_lexer": "ipython3",
   "version": "3.9.10"
  },
  "orig_nbformat": 4
 },
 "nbformat": 4,
 "nbformat_minor": 2
}
